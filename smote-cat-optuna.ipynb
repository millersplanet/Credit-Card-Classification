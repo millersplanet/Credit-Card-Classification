{
 "cells": [
  {
   "cell_type": "code",
   "execution_count": 1,
   "id": "40d0d8a2",
   "metadata": {},
   "outputs": [],
   "source": [
    "import pandas as pd\n",
    "import numpy as np\n",
    "\n",
    "train=pd.read_csv('train.csv')\n",
    "test=pd.read_csv('test.csv')"
   ]
  },
  {
   "cell_type": "code",
   "execution_count": 2,
   "id": "f4dbdd4d",
   "metadata": {},
   "outputs": [],
   "source": [
    "train=train.drop('index',axis=1)\n",
    "train=train.drop('occyp_type',axis=1)\n",
    "\n",
    "test=test.drop('index',axis=1)\n",
    "test=test.drop('occyp_type',axis=1)"
   ]
  },
  {
   "cell_type": "code",
   "execution_count": 3,
   "id": "820326a3",
   "metadata": {},
   "outputs": [
    {
     "name": "stdout",
     "output_type": "stream",
     "text": [
      "중복된 행의 개수: 4497\n"
     ]
    }
   ],
   "source": [
    "duplicate_rows = train[train.duplicated(train.columns.difference(['credit']), keep=False)]\n",
    "\n",
    "print(\"중복된 행의 개수:\", len(duplicate_rows))"
   ]
  },
  {
   "cell_type": "code",
   "execution_count": 4,
   "id": "7c3c7e9d",
   "metadata": {},
   "outputs": [],
   "source": [
    "train = train.sort_values('credit', ascending=False).drop_duplicates(train.columns.difference(['credit']), keep='first')"
   ]
  },
  {
   "cell_type": "code",
   "execution_count": 5,
   "id": "07f21316",
   "metadata": {},
   "outputs": [
    {
     "name": "stdout",
     "output_type": "stream",
     "text": [
      "중복된 행의 개수: 0\n"
     ]
    }
   ],
   "source": [
    "duplicate_rows = train[train.duplicated(train.columns.difference(['credit']), keep=False)]\n",
    "\n",
    "print(\"중복된 행의 개수:\", len(duplicate_rows))"
   ]
  },
  {
   "cell_type": "code",
   "execution_count": 8,
   "id": "a29a4742",
   "metadata": {},
   "outputs": [],
   "source": [
    "train = train.drop('FLAG_MOBIL', axis=1)\n",
    "train = train.drop('child_num', axis=1)\n",
    "\n",
    "train['gender'] = train['gender'].replace(['F','M'],[0,1])\n",
    "train['car'] = train['car'].replace(['N','Y'],[0,1])\n",
    "train['reality'] = train['reality'].replace(['N','Y'],[0,1])\n",
    "\n",
    "test = test.drop('FLAG_MOBIL', axis=1)\n",
    "test = test.drop('child_num', axis=1)\n",
    "\n",
    "test['gender'] = test['gender'].replace(['F','M'],[0,1])\n",
    "test['car'] = test['car'].replace(['N','Y'],[0,1])\n",
    "test['reality'] = test['reality'].replace(['N','Y'],[0,1])"
   ]
  },
  {
   "cell_type": "code",
   "execution_count": 10,
   "id": "5235d3b0",
   "metadata": {},
   "outputs": [],
   "source": [
    "def days_to_year(x):\n",
    "    if x<0:\n",
    "        return (x*(-1))/365\n",
    "    return 0\n",
    "\n",
    "def minus_to_plus(x):\n",
    "    if x<0:\n",
    "        return x*(-1)\n",
    "    return 0"
   ]
  },
  {
   "cell_type": "code",
   "execution_count": 11,
   "id": "21917892",
   "metadata": {},
   "outputs": [],
   "source": [
    "train['DAYS_BIRTH'] = train['DAYS_BIRTH'].apply(days_to_year)\n",
    "train['DAYS_EMPLOYED'] = train['DAYS_EMPLOYED'].apply(days_to_year)\n",
    "train['begin_month'] = train['begin_month'].apply(minus_to_plus)\n",
    "\n",
    "test['DAYS_BIRTH'] = test['DAYS_BIRTH'].apply(days_to_year)\n",
    "test['DAYS_EMPLOYED'] = test['DAYS_EMPLOYED'].apply(days_to_year)\n",
    "test['begin_month'] = test['begin_month'].apply(minus_to_plus)"
   ]
  },
  {
   "cell_type": "code",
   "execution_count": 13,
   "id": "302a5cbb",
   "metadata": {},
   "outputs": [],
   "source": [
    "from sklearn import preprocessing\n",
    "\n",
    "label_encoder = preprocessing.LabelEncoder()\n",
    "\n",
    "train['income_type'] = label_encoder.fit_transform(train['income_type'])\n",
    "test['income_type'] = label_encoder.fit_transform(test['income_type'])\n",
    "\n",
    "#교육 수준 순서 고려\n",
    "edu_type_mapping = {\n",
    "    'Lower secondary': 0,\n",
    "    'Secondary / secondary special': 1,\n",
    "    'Incomplete higher': 2,\n",
    "    'Higher education': 3,\n",
    "    'Academic degree': 4\n",
    "}\n",
    "train['edu_type'] = train['edu_type'].map(edu_type_mapping)\n",
    "test['edu_type'] = test['edu_type'].map(edu_type_mapping)\n",
    "\n",
    "train['family_type'] = label_encoder.fit_transform(train['family_type'])\n",
    "test['family_type'] = label_encoder.fit_transform(test['family_type'])\n",
    "\n",
    "train['house_type'] = label_encoder.fit_transform(train['house_type'])\n",
    "test['house_type'] = label_encoder.fit_transform(test['house_type'])"
   ]
  },
  {
   "cell_type": "code",
   "execution_count": 15,
   "id": "4aa13d79",
   "metadata": {},
   "outputs": [],
   "source": [
    "train.loc[train['family_size'] >= 4,'family_size']=4\n",
    "test.loc[test['family_size']>=4, 'family_size']=4"
   ]
  },
  {
   "cell_type": "code",
   "execution_count": 17,
   "id": "f767c032",
   "metadata": {},
   "outputs": [
    {
     "name": "stdout",
     "output_type": "stream",
     "text": [
      "(38043, 16) (38043,)\n"
     ]
    }
   ],
   "source": [
    "from sklearn.model_selection import train_test_split\n",
    "from catboost import CatBoostClassifier, Pool\n",
    "from sklearn.metrics import accuracy_score, classification_report, log_loss\n",
    "from imblearn.over_sampling import SMOTE\n",
    "\n",
    "# 데이터 준비\n",
    "X = train.drop('credit', axis=1)\n",
    "y = train['credit']\n",
    "X_train, X_test, y_train, y_test = train_test_split(X, y, test_size=0.2, shuffle=True, random_state=42)\n",
    "\n",
    "smote = SMOTE(random_state=42)\n",
    "X_Sover, y_Sover = smote.fit_resample(X_train, y_train)\n",
    "print(X_Sover.shape, y_Sover.shape)"
   ]
  },
  {
   "cell_type": "code",
   "execution_count": 18,
   "id": "ad03764f",
   "metadata": {},
   "outputs": [
    {
     "data": {
      "text/plain": [
       "2.0    12681\n",
       "1.0     4438\n",
       "0.0     2164\n",
       "Name: credit, dtype: int64"
      ]
     },
     "metadata": {},
     "output_type": "display_data"
    },
    {
     "data": {
      "text/plain": [
       "2.0    12681\n",
       "1.0    12681\n",
       "0.0    12681\n",
       "Name: credit, dtype: int64"
      ]
     },
     "metadata": {},
     "output_type": "display_data"
    }
   ],
   "source": [
    "display(y_train.value_counts(),y_Sover.value_counts())"
   ]
  },
  {
   "cell_type": "code",
   "execution_count": 40,
   "id": "796bfee0",
   "metadata": {
    "scrolled": false
   },
   "outputs": [
    {
     "name": "stderr",
     "output_type": "stream",
     "text": [
      "[I 2024-05-09 10:35:16,384] A new study created in memory with name: no-name-62e20bc9-4a0c-4b1e-9d41-ae7e22f65417\n",
      "C:\\Users\\user\\AppData\\Local\\Temp\\ipykernel_16904\\3852562354.py:11: FutureWarning: suggest_loguniform has been deprecated in v3.0.0. This feature will be removed in v6.0.0. See https://github.com/optuna/optuna/releases/tag/v3.0.0. Use suggest_float(..., log=True) instead.\n",
      "  'learning_rate': trial.suggest_loguniform('learning_rate', 0.01, 0.3),\n",
      "C:\\Users\\user\\AppData\\Local\\Temp\\ipykernel_16904\\3852562354.py:13: FutureWarning: suggest_loguniform has been deprecated in v3.0.0. This feature will be removed in v6.0.0. See https://github.com/optuna/optuna/releases/tag/v3.0.0. Use suggest_float(..., log=True) instead.\n",
      "  'l2_leaf_reg': trial.suggest_loguniform('l2_leaf_reg', 0.1, 10),\n",
      "[I 2024-05-09 10:35:17,306] Trial 0 finished with value: 0.8734468297758057 and parameters: {'iterations': 96, 'learning_rate': 0.10837269698685946, 'depth': 5, 'l2_leaf_reg': 1.7390120924335961, 'border_count': 70}. Best is trial 0 with value: 0.8734468297758057.\n",
      "C:\\Users\\user\\AppData\\Local\\Temp\\ipykernel_16904\\3852562354.py:11: FutureWarning: suggest_loguniform has been deprecated in v3.0.0. This feature will be removed in v6.0.0. See https://github.com/optuna/optuna/releases/tag/v3.0.0. Use suggest_float(..., log=True) instead.\n",
      "  'learning_rate': trial.suggest_loguniform('learning_rate', 0.01, 0.3),\n",
      "C:\\Users\\user\\AppData\\Local\\Temp\\ipykernel_16904\\3852562354.py:13: FutureWarning: suggest_loguniform has been deprecated in v3.0.0. This feature will be removed in v6.0.0. See https://github.com/optuna/optuna/releases/tag/v3.0.0. Use suggest_float(..., log=True) instead.\n",
      "  'l2_leaf_reg': trial.suggest_loguniform('l2_leaf_reg', 0.1, 10),\n",
      "[I 2024-05-09 10:35:19,410] Trial 1 finished with value: 0.9057521972467732 and parameters: {'iterations': 147, 'learning_rate': 0.01927235269020872, 'depth': 7, 'l2_leaf_reg': 4.43337517367455, 'border_count': 220}. Best is trial 0 with value: 0.8734468297758057.\n",
      "C:\\Users\\user\\AppData\\Local\\Temp\\ipykernel_16904\\3852562354.py:11: FutureWarning: suggest_loguniform has been deprecated in v3.0.0. This feature will be removed in v6.0.0. See https://github.com/optuna/optuna/releases/tag/v3.0.0. Use suggest_float(..., log=True) instead.\n",
      "  'learning_rate': trial.suggest_loguniform('learning_rate', 0.01, 0.3),\n",
      "C:\\Users\\user\\AppData\\Local\\Temp\\ipykernel_16904\\3852562354.py:13: FutureWarning: suggest_loguniform has been deprecated in v3.0.0. This feature will be removed in v6.0.0. See https://github.com/optuna/optuna/releases/tag/v3.0.0. Use suggest_float(..., log=True) instead.\n",
      "  'l2_leaf_reg': trial.suggest_loguniform('l2_leaf_reg', 0.1, 10),\n",
      "[I 2024-05-09 10:35:20,430] Trial 2 finished with value: 0.9181001389970223 and parameters: {'iterations': 85, 'learning_rate': 0.029337469653642832, 'depth': 6, 'l2_leaf_reg': 0.17721073541970778, 'border_count': 202}. Best is trial 0 with value: 0.8734468297758057.\n",
      "C:\\Users\\user\\AppData\\Local\\Temp\\ipykernel_16904\\3852562354.py:11: FutureWarning: suggest_loguniform has been deprecated in v3.0.0. This feature will be removed in v6.0.0. See https://github.com/optuna/optuna/releases/tag/v3.0.0. Use suggest_float(..., log=True) instead.\n",
      "  'learning_rate': trial.suggest_loguniform('learning_rate', 0.01, 0.3),\n",
      "C:\\Users\\user\\AppData\\Local\\Temp\\ipykernel_16904\\3852562354.py:13: FutureWarning: suggest_loguniform has been deprecated in v3.0.0. This feature will be removed in v6.0.0. See https://github.com/optuna/optuna/releases/tag/v3.0.0. Use suggest_float(..., log=True) instead.\n",
      "  'l2_leaf_reg': trial.suggest_loguniform('l2_leaf_reg', 0.1, 10),\n",
      "[I 2024-05-09 10:35:22,231] Trial 3 finished with value: 0.9111296956449477 and parameters: {'iterations': 189, 'learning_rate': 0.01899486335821114, 'depth': 5, 'l2_leaf_reg': 0.1383796356513609, 'border_count': 116}. Best is trial 0 with value: 0.8734468297758057.\n",
      "C:\\Users\\user\\AppData\\Local\\Temp\\ipykernel_16904\\3852562354.py:11: FutureWarning: suggest_loguniform has been deprecated in v3.0.0. This feature will be removed in v6.0.0. See https://github.com/optuna/optuna/releases/tag/v3.0.0. Use suggest_float(..., log=True) instead.\n",
      "  'learning_rate': trial.suggest_loguniform('learning_rate', 0.01, 0.3),\n",
      "C:\\Users\\user\\AppData\\Local\\Temp\\ipykernel_16904\\3852562354.py:13: FutureWarning: suggest_loguniform has been deprecated in v3.0.0. This feature will be removed in v6.0.0. See https://github.com/optuna/optuna/releases/tag/v3.0.0. Use suggest_float(..., log=True) instead.\n",
      "  'l2_leaf_reg': trial.suggest_loguniform('l2_leaf_reg', 0.1, 10),\n",
      "[I 2024-05-09 10:35:23,692] Trial 4 finished with value: 0.9199710908813072 and parameters: {'iterations': 135, 'learning_rate': 0.01846392637435128, 'depth': 6, 'l2_leaf_reg': 2.3452151809878923, 'border_count': 145}. Best is trial 0 with value: 0.8734468297758057.\n",
      "C:\\Users\\user\\AppData\\Local\\Temp\\ipykernel_16904\\3852562354.py:11: FutureWarning: suggest_loguniform has been deprecated in v3.0.0. This feature will be removed in v6.0.0. See https://github.com/optuna/optuna/releases/tag/v3.0.0. Use suggest_float(..., log=True) instead.\n",
      "  'learning_rate': trial.suggest_loguniform('learning_rate', 0.01, 0.3),\n",
      "C:\\Users\\user\\AppData\\Local\\Temp\\ipykernel_16904\\3852562354.py:13: FutureWarning: suggest_loguniform has been deprecated in v3.0.0. This feature will be removed in v6.0.0. See https://github.com/optuna/optuna/releases/tag/v3.0.0. Use suggest_float(..., log=True) instead.\n",
      "  'l2_leaf_reg': trial.suggest_loguniform('l2_leaf_reg', 0.1, 10),\n",
      "[I 2024-05-09 10:35:25,097] Trial 5 finished with value: 0.9115683607528594 and parameters: {'iterations': 124, 'learning_rate': 0.023114749006834936, 'depth': 6, 'l2_leaf_reg': 5.057616636121475, 'border_count': 121}. Best is trial 0 with value: 0.8734468297758057.\n",
      "C:\\Users\\user\\AppData\\Local\\Temp\\ipykernel_16904\\3852562354.py:11: FutureWarning: suggest_loguniform has been deprecated in v3.0.0. This feature will be removed in v6.0.0. See https://github.com/optuna/optuna/releases/tag/v3.0.0. Use suggest_float(..., log=True) instead.\n",
      "  'learning_rate': trial.suggest_loguniform('learning_rate', 0.01, 0.3),\n",
      "C:\\Users\\user\\AppData\\Local\\Temp\\ipykernel_16904\\3852562354.py:13: FutureWarning: suggest_loguniform has been deprecated in v3.0.0. This feature will be removed in v6.0.0. See https://github.com/optuna/optuna/releases/tag/v3.0.0. Use suggest_float(..., log=True) instead.\n",
      "  'l2_leaf_reg': trial.suggest_loguniform('l2_leaf_reg', 0.1, 10),\n",
      "[I 2024-05-09 10:35:25,888] Trial 6 finished with value: 0.88434111401659 and parameters: {'iterations': 85, 'learning_rate': 0.07933286499950083, 'depth': 5, 'l2_leaf_reg': 3.0844098880235693, 'border_count': 134}. Best is trial 0 with value: 0.8734468297758057.\n",
      "C:\\Users\\user\\AppData\\Local\\Temp\\ipykernel_16904\\3852562354.py:11: FutureWarning: suggest_loguniform has been deprecated in v3.0.0. This feature will be removed in v6.0.0. See https://github.com/optuna/optuna/releases/tag/v3.0.0. Use suggest_float(..., log=True) instead.\n",
      "  'learning_rate': trial.suggest_loguniform('learning_rate', 0.01, 0.3),\n",
      "C:\\Users\\user\\AppData\\Local\\Temp\\ipykernel_16904\\3852562354.py:13: FutureWarning: suggest_loguniform has been deprecated in v3.0.0. This feature will be removed in v6.0.0. See https://github.com/optuna/optuna/releases/tag/v3.0.0. Use suggest_float(..., log=True) instead.\n",
      "  'l2_leaf_reg': trial.suggest_loguniform('l2_leaf_reg', 0.1, 10),\n",
      "[I 2024-05-09 10:35:26,768] Trial 7 finished with value: 0.9582553401586229 and parameters: {'iterations': 110, 'learning_rate': 0.016771092896718194, 'depth': 4, 'l2_leaf_reg': 2.9469671936428656, 'border_count': 107}. Best is trial 0 with value: 0.8734468297758057.\n",
      "C:\\Users\\user\\AppData\\Local\\Temp\\ipykernel_16904\\3852562354.py:11: FutureWarning: suggest_loguniform has been deprecated in v3.0.0. This feature will be removed in v6.0.0. See https://github.com/optuna/optuna/releases/tag/v3.0.0. Use suggest_float(..., log=True) instead.\n",
      "  'learning_rate': trial.suggest_loguniform('learning_rate', 0.01, 0.3),\n",
      "C:\\Users\\user\\AppData\\Local\\Temp\\ipykernel_16904\\3852562354.py:13: FutureWarning: suggest_loguniform has been deprecated in v3.0.0. This feature will be removed in v6.0.0. See https://github.com/optuna/optuna/releases/tag/v3.0.0. Use suggest_float(..., log=True) instead.\n",
      "  'l2_leaf_reg': trial.suggest_loguniform('l2_leaf_reg', 0.1, 10),\n"
     ]
    },
    {
     "name": "stderr",
     "output_type": "stream",
     "text": [
      "[I 2024-05-09 10:35:38,718] Trial 8 finished with value: 0.7899766683476285 and parameters: {'iterations': 180, 'learning_rate': 0.15767494364442305, 'depth': 10, 'l2_leaf_reg': 2.4687984943380297, 'border_count': 230}. Best is trial 8 with value: 0.7899766683476285.\n",
      "C:\\Users\\user\\AppData\\Local\\Temp\\ipykernel_16904\\3852562354.py:11: FutureWarning: suggest_loguniform has been deprecated in v3.0.0. This feature will be removed in v6.0.0. See https://github.com/optuna/optuna/releases/tag/v3.0.0. Use suggest_float(..., log=True) instead.\n",
      "  'learning_rate': trial.suggest_loguniform('learning_rate', 0.01, 0.3),\n",
      "C:\\Users\\user\\AppData\\Local\\Temp\\ipykernel_16904\\3852562354.py:13: FutureWarning: suggest_loguniform has been deprecated in v3.0.0. This feature will be removed in v6.0.0. See https://github.com/optuna/optuna/releases/tag/v3.0.0. Use suggest_float(..., log=True) instead.\n",
      "  'l2_leaf_reg': trial.suggest_loguniform('l2_leaf_reg', 0.1, 10),\n",
      "[I 2024-05-09 10:35:44,475] Trial 9 finished with value: 0.8114960699107742 and parameters: {'iterations': 185, 'learning_rate': 0.07333774403467648, 'depth': 9, 'l2_leaf_reg': 0.8151135435725437, 'border_count': 136}. Best is trial 8 with value: 0.7899766683476285.\n",
      "C:\\Users\\user\\AppData\\Local\\Temp\\ipykernel_16904\\3852562354.py:11: FutureWarning: suggest_loguniform has been deprecated in v3.0.0. This feature will be removed in v6.0.0. See https://github.com/optuna/optuna/releases/tag/v3.0.0. Use suggest_float(..., log=True) instead.\n",
      "  'learning_rate': trial.suggest_loguniform('learning_rate', 0.01, 0.3),\n",
      "C:\\Users\\user\\AppData\\Local\\Temp\\ipykernel_16904\\3852562354.py:13: FutureWarning: suggest_loguniform has been deprecated in v3.0.0. This feature will be removed in v6.0.0. See https://github.com/optuna/optuna/releases/tag/v3.0.0. Use suggest_float(..., log=True) instead.\n",
      "  'l2_leaf_reg': trial.suggest_loguniform('l2_leaf_reg', 0.1, 10),\n",
      "[I 2024-05-09 10:35:56,788] Trial 10 finished with value: 0.8027918833151056 and parameters: {'iterations': 164, 'learning_rate': 0.23375513969695308, 'depth': 10, 'l2_leaf_reg': 0.6890758560224043, 'border_count': 243}. Best is trial 8 with value: 0.7899766683476285.\n",
      "C:\\Users\\user\\AppData\\Local\\Temp\\ipykernel_16904\\3852562354.py:11: FutureWarning: suggest_loguniform has been deprecated in v3.0.0. This feature will be removed in v6.0.0. See https://github.com/optuna/optuna/releases/tag/v3.0.0. Use suggest_float(..., log=True) instead.\n",
      "  'learning_rate': trial.suggest_loguniform('learning_rate', 0.01, 0.3),\n",
      "C:\\Users\\user\\AppData\\Local\\Temp\\ipykernel_16904\\3852562354.py:13: FutureWarning: suggest_loguniform has been deprecated in v3.0.0. This feature will be removed in v6.0.0. See https://github.com/optuna/optuna/releases/tag/v3.0.0. Use suggest_float(..., log=True) instead.\n",
      "  'l2_leaf_reg': trial.suggest_loguniform('l2_leaf_reg', 0.1, 10),\n",
      "[I 2024-05-09 10:36:08,383] Trial 11 finished with value: 0.8270287328348755 and parameters: {'iterations': 161, 'learning_rate': 0.2983677058443879, 'depth': 10, 'l2_leaf_reg': 0.5990167697681336, 'border_count': 255}. Best is trial 8 with value: 0.7899766683476285.\n"
     ]
    },
    {
     "name": "stdout",
     "output_type": "stream",
     "text": [
      "Best trial:\n",
      "  Value: 0.7899766683476285\n",
      "  Params: \n",
      "    iterations: 180\n",
      "    learning_rate: 0.15767494364442305\n",
      "    depth: 10\n",
      "    l2_leaf_reg: 2.4687984943380297\n",
      "    border_count: 230\n"
     ]
    }
   ],
   "source": [
    "import optuna\n",
    "from catboost import CatBoostClassifier, Pool\n",
    "from sklearn.metrics import accuracy_score, log_loss\n",
    "from sklearn.model_selection import train_test_split\n",
    "\n",
    "# Objective 함수 정의\n",
    "def objective(trial):\n",
    "    # 하이퍼파라미터 탐색 공간 설정\n",
    "    params = {\n",
    "        'iterations': trial.suggest_int('iterations', 50, 200),\n",
    "        'learning_rate': trial.suggest_loguniform('learning_rate', 0.01, 0.3),\n",
    "        'depth': trial.suggest_int('depth', 3, 10),\n",
    "        'l2_leaf_reg': trial.suggest_loguniform('l2_leaf_reg', 0.1, 10),\n",
    "        'border_count': trial.suggest_int('border_count', 32, 255),\n",
    "        'random_seed': 42,\n",
    "        'verbose': False\n",
    "    }\n",
    "    \n",
    "    # CatBoost Pool 생성\n",
    "    catboost_pool = Pool(X_Sover, y_Sover)\n",
    "    \n",
    "    # 모델 생성 및 학습\n",
    "    model = CatBoostClassifier(**params, loss_function='MultiClass')\n",
    "    model.fit(catboost_pool, verbose=False)\n",
    "    \n",
    "    # 예측\n",
    "    preds_proba = model.predict_proba(X_test)\n",
    "    \n",
    "    # 평가\n",
    "    logloss = log_loss(y_test, preds_proba)\n",
    "    \n",
    "    return logloss\n",
    "\n",
    "# Study 객체 생성 및 최적화 실행\n",
    "study = optuna.create_study(direction='minimize')\n",
    "study.optimize(objective, n_trials=12)\n",
    "\n",
    "# 최적의 하이퍼파라미터 출력\n",
    "print(\"Best trial:\")\n",
    "trial = study.best_trial\n",
    "print(\"  Value: {}\".format(trial.value))\n",
    "print(\"  Params: \")\n",
    "for key, value in trial.params.items():\n",
    "    print(\"    {}: {}\".format(key, value))"
   ]
  },
  {
   "cell_type": "code",
   "execution_count": 19,
   "id": "7ba570df",
   "metadata": {},
   "outputs": [
    {
     "name": "stdout",
     "output_type": "stream",
     "text": [
      "Average Accuracy Score: 0.7655548564733012\n",
      "Average Log Loss: 0.604622603901755\n"
     ]
    }
   ],
   "source": [
    "from sklearn.model_selection import StratifiedKFold\n",
    "\n",
    "n_fold = 15\n",
    "n_class = 3\n",
    "\n",
    "# 하이퍼파라미터 설정\n",
    "best_params = {\n",
    "    'iterations': 180,\n",
    "    'learning_rate': 0.15767494364442305,\n",
    "    'depth': 10,\n",
    "    'l2_leaf_reg': 2.4687984943380297,\n",
    "    'border_count': 230,\n",
    "    'random_seed': 19,\n",
    "    'verbose': False\n",
    "}\n",
    "\n",
    "# StratifiedKFold를 사용하여 데이터를 15개의 폴드로 나눔\n",
    "skf = StratifiedKFold(n_splits=15, random_state=42, shuffle=True)\n",
    "\n",
    "# 교차 검증 수행\n",
    "fold_accuracies = []\n",
    "fold_log_losses = []\n",
    "for train_index, test_index in skf.split(X_Sover, y_Sover):\n",
    "    X_train_fold, X_test_fold = X_Sover.iloc[train_index], X_Sover.iloc[test_index]\n",
    "    y_train_fold, y_test_fold = y_Sover.iloc[train_index], y_Sover.iloc[test_index]\n",
    "    \n",
    "    # CatBoost 모델 생성\n",
    "    model = CatBoostClassifier(**best_params, loss_function='MultiClass')\n",
    "    \n",
    "    # 모델 학습\n",
    "    model.fit(X_train_fold, y_train_fold, verbose=False)\n",
    "    \n",
    "    # 검증 데이터에 대한 예측\n",
    "    preds_proba = model.predict_proba(X_test_fold)\n",
    "    preds_class = model.predict(X_test_fold)\n",
    "    \n",
    "    # 평가 지표 계산\n",
    "    accuracy = accuracy_score(y_test_fold, preds_class)\n",
    "    logloss = log_loss(y_test_fold, preds_proba)\n",
    "    \n",
    "    fold_accuracies.append(accuracy)\n",
    "    fold_log_losses.append(logloss)\n",
    "\n",
    "# 결과 출력\n",
    "print(\"Average Accuracy Score:\", np.mean(fold_accuracies))\n",
    "print(\"Average Log Loss:\", np.mean(fold_log_losses))"
   ]
  }
 ],
 "metadata": {
  "kernelspec": {
   "display_name": "Python 3 (ipykernel)",
   "language": "python",
   "name": "python3"
  },
  "language_info": {
   "codemirror_mode": {
    "name": "ipython",
    "version": 3
   },
   "file_extension": ".py",
   "mimetype": "text/x-python",
   "name": "python",
   "nbconvert_exporter": "python",
   "pygments_lexer": "ipython3",
   "version": "3.11.3"
  }
 },
 "nbformat": 4,
 "nbformat_minor": 5
}
