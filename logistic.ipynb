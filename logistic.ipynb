{
 "cells": [
  {
   "cell_type": "code",
   "execution_count": 1,
   "id": "707c9907",
   "metadata": {},
   "outputs": [],
   "source": [
    "import pandas as pd\n",
    "\n",
    "train=pd.read_csv('train.csv')\n",
    "test=pd.read_csv('test.csv')"
   ]
  },
  {
   "cell_type": "code",
   "execution_count": 2,
   "id": "095f22d6",
   "metadata": {},
   "outputs": [
    {
     "data": {
      "text/plain": [
       "(26457, 20)"
      ]
     },
     "execution_count": 2,
     "metadata": {},
     "output_type": "execute_result"
    }
   ],
   "source": [
    "train.shape"
   ]
  },
  {
   "cell_type": "code",
   "execution_count": 3,
   "id": "43ed56e7",
   "metadata": {},
   "outputs": [
    {
     "data": {
      "text/plain": [
       "(10000, 19)"
      ]
     },
     "execution_count": 3,
     "metadata": {},
     "output_type": "execute_result"
    }
   ],
   "source": [
    "test.shape"
   ]
  },
  {
   "cell_type": "code",
   "execution_count": 4,
   "id": "4d7b5e85",
   "metadata": {},
   "outputs": [
    {
     "name": "stdout",
     "output_type": "stream",
     "text": [
      "<class 'pandas.core.frame.DataFrame'>\n",
      "RangeIndex: 26457 entries, 0 to 26456\n",
      "Data columns (total 20 columns):\n",
      " #   Column         Non-Null Count  Dtype  \n",
      "---  ------         --------------  -----  \n",
      " 0   index          26457 non-null  int64  \n",
      " 1   gender         26457 non-null  object \n",
      " 2   car            26457 non-null  object \n",
      " 3   reality        26457 non-null  object \n",
      " 4   child_num      26457 non-null  int64  \n",
      " 5   income_total   26457 non-null  float64\n",
      " 6   income_type    26457 non-null  object \n",
      " 7   edu_type       26457 non-null  object \n",
      " 8   family_type    26457 non-null  object \n",
      " 9   house_type     26457 non-null  object \n",
      " 10  DAYS_BIRTH     26457 non-null  int64  \n",
      " 11  DAYS_EMPLOYED  26457 non-null  int64  \n",
      " 12  FLAG_MOBIL     26457 non-null  int64  \n",
      " 13  work_phone     26457 non-null  int64  \n",
      " 14  phone          26457 non-null  int64  \n",
      " 15  email          26457 non-null  int64  \n",
      " 16  occyp_type     18286 non-null  object \n",
      " 17  family_size    26457 non-null  float64\n",
      " 18  begin_month    26457 non-null  float64\n",
      " 19  credit         26457 non-null  float64\n",
      "dtypes: float64(4), int64(8), object(8)\n",
      "memory usage: 4.0+ MB\n"
     ]
    }
   ],
   "source": [
    "train.info()"
   ]
  },
  {
   "cell_type": "code",
   "execution_count": 5,
   "id": "faeb6729",
   "metadata": {},
   "outputs": [
    {
     "data": {
      "text/plain": [
       "index               0\n",
       "gender              0\n",
       "car                 0\n",
       "reality             0\n",
       "child_num           0\n",
       "income_total        0\n",
       "income_type         0\n",
       "edu_type            0\n",
       "family_type         0\n",
       "house_type          0\n",
       "DAYS_BIRTH          0\n",
       "DAYS_EMPLOYED       0\n",
       "FLAG_MOBIL          0\n",
       "work_phone          0\n",
       "phone               0\n",
       "email               0\n",
       "occyp_type       8171\n",
       "family_size         0\n",
       "begin_month         0\n",
       "credit              0\n",
       "dtype: int64"
      ]
     },
     "execution_count": 5,
     "metadata": {},
     "output_type": "execute_result"
    }
   ],
   "source": [
    "train.isnull().sum()"
   ]
  },
  {
   "cell_type": "code",
   "execution_count": 6,
   "id": "4e61209d",
   "metadata": {},
   "outputs": [],
   "source": [
    "train=train.drop('occyp_type', axis=1)\n",
    "test=test.drop('occyp_type', axis=1)"
   ]
  },
  {
   "cell_type": "code",
   "execution_count": 7,
   "id": "e62a83eb",
   "metadata": {},
   "outputs": [
    {
     "data": {
      "text/plain": [
       "index            26457\n",
       "gender               2\n",
       "car                  2\n",
       "reality              2\n",
       "child_num            9\n",
       "income_total       249\n",
       "income_type          5\n",
       "edu_type             5\n",
       "family_type          5\n",
       "house_type           6\n",
       "DAYS_BIRTH        6621\n",
       "DAYS_EMPLOYED     3470\n",
       "FLAG_MOBIL           1\n",
       "work_phone           2\n",
       "phone                2\n",
       "email                2\n",
       "family_size         10\n",
       "begin_month         61\n",
       "credit               3\n",
       "dtype: int64"
      ]
     },
     "execution_count": 7,
     "metadata": {},
     "output_type": "execute_result"
    }
   ],
   "source": [
    "unique_len = train.apply(lambda x : len(x.unique()))\n",
    "\n",
    "unique_len"
   ]
  },
  {
   "cell_type": "code",
   "execution_count": 8,
   "id": "ea500481",
   "metadata": {},
   "outputs": [],
   "source": [
    "train=train.drop('index', axis=1)\n",
    "test=test.drop('index', axis=1)\n",
    "\n",
    "train=train.drop('FLAG_MOBIL', axis=1)\n",
    "test=test.drop('FLAG_MOBIL', axis=1)"
   ]
  },
  {
   "cell_type": "code",
   "execution_count": 9,
   "id": "50deefb3",
   "metadata": {},
   "outputs": [
    {
     "name": "stdout",
     "output_type": "stream",
     "text": [
      "0    17697\n",
      "1     8760\n",
      "Name: gender, dtype: int64\n",
      "0    16410\n",
      "1    10047\n",
      "Name: car, dtype: int64\n",
      "1    17830\n",
      "0     8627\n",
      "Name: reality, dtype: int64\n",
      "0    18672\n",
      "1     7785\n",
      "Name: phone, dtype: int64\n",
      "0    24042\n",
      "1     2415\n",
      "Name: email, dtype: int64\n",
      "0    20511\n",
      "1     5946\n",
      "Name: work_phone, dtype: int64\n"
     ]
    }
   ],
   "source": [
    "train['gender'] = train['gender'].replace(['F','M'],[0,1])\n",
    "test['gender'] = test['gender'].replace(['F','M'],[0,1])\n",
    "print(train['gender'].value_counts())\n",
    "\n",
    "train['car'] = train['car'].replace(['N','Y'],[0,1])\n",
    "test['car'] = test['car'].replace(['N','Y'],[0,1])\n",
    "print(train['car'].value_counts())\n",
    "\n",
    "train['reality'] = train['reality'].replace(['N','Y'],[0,1])\n",
    "test['reality'] = test['reality'].replace(['N','Y'],[0,1])\n",
    "print(train['reality'].value_counts())\n",
    "\n",
    "print(train['phone'].value_counts())\n",
    "\n",
    "print(train['email'].value_counts())    \n",
    "\n",
    "print(train['work_phone'].value_counts())"
   ]
  },
  {
   "cell_type": "code",
   "execution_count": 10,
   "id": "8a020167",
   "metadata": {},
   "outputs": [
    {
     "name": "stdout",
     "output_type": "stream",
     "text": [
      "2.0     14106\n",
      "1.0      5109\n",
      "3.0      4632\n",
      "4.0      2260\n",
      "5.0       291\n",
      "6.0        44\n",
      "7.0         9\n",
      "15.0        3\n",
      "9.0         2\n",
      "20.0        1\n",
      "Name: family_size, dtype: int64\n"
     ]
    }
   ],
   "source": [
    "train=train.drop('child_num', axis=1)\n",
    "test=test.drop('child_num', axis=1)\n",
    "print(train['family_size'].value_counts())"
   ]
  },
  {
   "cell_type": "code",
   "execution_count": 11,
   "id": "621ce8c7",
   "metadata": {},
   "outputs": [
    {
     "name": "stdout",
     "output_type": "stream",
     "text": [
      "0.25    2.0\n",
      "0.50    2.0\n",
      "0.75    3.0\n",
      "Name: family_size, dtype: float64\n"
     ]
    }
   ],
   "source": [
    "quartiles = train['family_size'].quantile([0.25, 0.5, 0.75])\n",
    "print(quartiles)"
   ]
  },
  {
   "cell_type": "code",
   "execution_count": 12,
   "id": "95bd7132",
   "metadata": {},
   "outputs": [
    {
     "name": "stdout",
     "output_type": "stream",
     "text": [
      "2.0    14106\n",
      "1.0     5109\n",
      "3.0     4632\n",
      "4.0     2610\n",
      "Name: family_size, dtype: int64\n"
     ]
    }
   ],
   "source": [
    "train.loc[train['family_size'] >= 4,'family_size']=4\n",
    "test.loc[test['family_size']>=4, 'family_size']=4\n",
    "print(train['family_size'].value_counts())"
   ]
  },
  {
   "cell_type": "code",
   "execution_count": 13,
   "id": "cfa0bfb9",
   "metadata": {},
   "outputs": [],
   "source": [
    "def days_to_year(x):\n",
    "    if x<0:\n",
    "        return (x*(-1))/365\n",
    "    return 0\n",
    "\n",
    "def minus_to_plus(x):\n",
    "    if x<0:\n",
    "        return x*(-1)\n",
    "    return 0"
   ]
  },
  {
   "cell_type": "code",
   "execution_count": 14,
   "id": "4f1adeea",
   "metadata": {},
   "outputs": [],
   "source": [
    "train['DAYS_BIRTH'] = train['DAYS_BIRTH'].apply(days_to_year)\n",
    "train['DAYS_EMPLOYED'] = train['DAYS_EMPLOYED'].apply(days_to_year)\n",
    "train['begin_month'] = train['begin_month'].apply(minus_to_plus)\n",
    "\n",
    "test['DAYS_BIRTH'] = test['DAYS_BIRTH'].apply(days_to_year)\n",
    "test['DAYS_EMPLOYED'] = test['DAYS_EMPLOYED'].apply(days_to_year)\n",
    "test['begin_month'] = test['begin_month'].apply(minus_to_plus)"
   ]
  },
  {
   "cell_type": "code",
   "execution_count": 15,
   "id": "e84efe03",
   "metadata": {},
   "outputs": [],
   "source": [
    "#생략 가능\n",
    "\n",
    "train['family_size'] = train['family_size'].astype('int64')\n",
    "test['family_size'] = test['family_size'].astype('int64')\n",
    "\n",
    "train['begin_month'] = train['begin_month'].astype('int64')\n",
    "test['begin_month'] = test['begin_month'].astype('int64')"
   ]
  },
  {
   "cell_type": "code",
   "execution_count": 16,
   "id": "3bd12164",
   "metadata": {},
   "outputs": [],
   "source": [
    "from sklearn import preprocessing\n",
    "\n",
    "label_encoder = preprocessing.LabelEncoder()\n",
    "\n",
    "train['income_type'] = label_encoder.fit_transform(train['income_type'])\n",
    "test['income_type'] = label_encoder.transform(test['income_type'])\n",
    "\n",
    "#교육 수준 순서 고려\n",
    "edu_type_mapping = {\n",
    "    'Lower secondary': 0,\n",
    "    'Secondary / secondary special': 1,\n",
    "    'Incomplete higher': 2,\n",
    "    'Higher education': 3,\n",
    "    'Academic degree': 4\n",
    "}\n",
    "train['edu_type'] = train['edu_type'].map(edu_type_mapping)\n",
    "test['edu_type'] = test['edu_type'].map(edu_type_mapping)\n",
    "\n",
    "train['family_type'] = label_encoder.fit_transform(train['family_type'])\n",
    "test['family_type'] = label_encoder.transform(test['family_type'])\n",
    "\n",
    "train['house_type'] = label_encoder.fit_transform(train['house_type'])\n",
    "test['house_type'] = label_encoder.transform(test['house_type'])"
   ]
  },
  {
   "cell_type": "code",
   "execution_count": 17,
   "id": "f221f993",
   "metadata": {},
   "outputs": [
    {
     "data": {
      "text/html": [
       "<div>\n",
       "<style scoped>\n",
       "    .dataframe tbody tr th:only-of-type {\n",
       "        vertical-align: middle;\n",
       "    }\n",
       "\n",
       "    .dataframe tbody tr th {\n",
       "        vertical-align: top;\n",
       "    }\n",
       "\n",
       "    .dataframe thead th {\n",
       "        text-align: right;\n",
       "    }\n",
       "</style>\n",
       "<table border=\"1\" class=\"dataframe\">\n",
       "  <thead>\n",
       "    <tr style=\"text-align: right;\">\n",
       "      <th></th>\n",
       "      <th>gender</th>\n",
       "      <th>car</th>\n",
       "      <th>reality</th>\n",
       "      <th>income_total</th>\n",
       "      <th>income_type</th>\n",
       "      <th>edu_type</th>\n",
       "      <th>family_type</th>\n",
       "      <th>house_type</th>\n",
       "      <th>DAYS_BIRTH</th>\n",
       "      <th>DAYS_EMPLOYED</th>\n",
       "      <th>work_phone</th>\n",
       "      <th>phone</th>\n",
       "      <th>email</th>\n",
       "      <th>family_size</th>\n",
       "      <th>begin_month</th>\n",
       "      <th>credit</th>\n",
       "    </tr>\n",
       "  </thead>\n",
       "  <tbody>\n",
       "    <tr>\n",
       "      <th>0</th>\n",
       "      <td>0</td>\n",
       "      <td>0</td>\n",
       "      <td>0</td>\n",
       "      <td>202500.0</td>\n",
       "      <td>0</td>\n",
       "      <td>3</td>\n",
       "      <td>1</td>\n",
       "      <td>2</td>\n",
       "      <td>38.079452</td>\n",
       "      <td>12.901370</td>\n",
       "      <td>0</td>\n",
       "      <td>0</td>\n",
       "      <td>0</td>\n",
       "      <td>2</td>\n",
       "      <td>6</td>\n",
       "      <td>1.0</td>\n",
       "    </tr>\n",
       "    <tr>\n",
       "      <th>1</th>\n",
       "      <td>0</td>\n",
       "      <td>0</td>\n",
       "      <td>1</td>\n",
       "      <td>247500.0</td>\n",
       "      <td>0</td>\n",
       "      <td>1</td>\n",
       "      <td>0</td>\n",
       "      <td>1</td>\n",
       "      <td>31.178082</td>\n",
       "      <td>4.219178</td>\n",
       "      <td>0</td>\n",
       "      <td>0</td>\n",
       "      <td>1</td>\n",
       "      <td>3</td>\n",
       "      <td>5</td>\n",
       "      <td>1.0</td>\n",
       "    </tr>\n",
       "    <tr>\n",
       "      <th>2</th>\n",
       "      <td>1</td>\n",
       "      <td>1</td>\n",
       "      <td>1</td>\n",
       "      <td>450000.0</td>\n",
       "      <td>4</td>\n",
       "      <td>3</td>\n",
       "      <td>1</td>\n",
       "      <td>1</td>\n",
       "      <td>52.293151</td>\n",
       "      <td>12.147945</td>\n",
       "      <td>0</td>\n",
       "      <td>1</td>\n",
       "      <td>0</td>\n",
       "      <td>2</td>\n",
       "      <td>22</td>\n",
       "      <td>2.0</td>\n",
       "    </tr>\n",
       "    <tr>\n",
       "      <th>3</th>\n",
       "      <td>0</td>\n",
       "      <td>0</td>\n",
       "      <td>1</td>\n",
       "      <td>202500.0</td>\n",
       "      <td>0</td>\n",
       "      <td>1</td>\n",
       "      <td>1</td>\n",
       "      <td>1</td>\n",
       "      <td>41.336986</td>\n",
       "      <td>5.731507</td>\n",
       "      <td>0</td>\n",
       "      <td>1</td>\n",
       "      <td>0</td>\n",
       "      <td>2</td>\n",
       "      <td>37</td>\n",
       "      <td>0.0</td>\n",
       "    </tr>\n",
       "    <tr>\n",
       "      <th>4</th>\n",
       "      <td>0</td>\n",
       "      <td>1</td>\n",
       "      <td>1</td>\n",
       "      <td>157500.0</td>\n",
       "      <td>2</td>\n",
       "      <td>3</td>\n",
       "      <td>1</td>\n",
       "      <td>1</td>\n",
       "      <td>41.197260</td>\n",
       "      <td>5.767123</td>\n",
       "      <td>0</td>\n",
       "      <td>0</td>\n",
       "      <td>0</td>\n",
       "      <td>2</td>\n",
       "      <td>26</td>\n",
       "      <td>2.0</td>\n",
       "    </tr>\n",
       "  </tbody>\n",
       "</table>\n",
       "</div>"
      ],
      "text/plain": [
       "   gender  car  reality  income_total  income_type  edu_type  family_type  \\\n",
       "0       0    0        0      202500.0            0         3            1   \n",
       "1       0    0        1      247500.0            0         1            0   \n",
       "2       1    1        1      450000.0            4         3            1   \n",
       "3       0    0        1      202500.0            0         1            1   \n",
       "4       0    1        1      157500.0            2         3            1   \n",
       "\n",
       "   house_type  DAYS_BIRTH  DAYS_EMPLOYED  work_phone  phone  email  \\\n",
       "0           2   38.079452      12.901370           0      0      0   \n",
       "1           1   31.178082       4.219178           0      0      1   \n",
       "2           1   52.293151      12.147945           0      1      0   \n",
       "3           1   41.336986       5.731507           0      1      0   \n",
       "4           1   41.197260       5.767123           0      0      0   \n",
       "\n",
       "   family_size  begin_month  credit  \n",
       "0            2            6     1.0  \n",
       "1            3            5     1.0  \n",
       "2            2           22     2.0  \n",
       "3            2           37     0.0  \n",
       "4            2           26     2.0  "
      ]
     },
     "execution_count": 17,
     "metadata": {},
     "output_type": "execute_result"
    }
   ],
   "source": [
    "train.head()"
   ]
  },
  {
   "cell_type": "code",
   "execution_count": 18,
   "id": "1b8dab79",
   "metadata": {},
   "outputs": [
    {
     "name": "stdout",
     "output_type": "stream",
     "text": [
      "Accuracy: 0.6390778533635676\n",
      "              precision    recall  f1-score   support\n",
      "\n",
      "         0.0       1.00      0.00      0.00       650\n",
      "         1.0       0.29      0.00      0.00      1262\n",
      "         2.0       0.64      1.00      0.78      3380\n",
      "\n",
      "    accuracy                           0.64      5292\n",
      "   macro avg       0.64      0.33      0.26      5292\n",
      "weighted avg       0.60      0.64      0.50      5292\n",
      "\n"
     ]
    }
   ],
   "source": [
    "from sklearn.model_selection import train_test_split\n",
    "from sklearn.preprocessing import StandardScaler\n",
    "from sklearn.linear_model import LogisticRegression\n",
    "from sklearn.metrics import accuracy_score, classification_report\n",
    "\n",
    "X = train.drop('credit', axis=1)\n",
    "y = train['credit']\n",
    "\n",
    "# 데이터 스케일링\n",
    "scaler = StandardScaler()\n",
    "X_scaled = scaler.fit_transform(X)\n",
    "\n",
    "X_train, X_test, y_train, y_test = train_test_split(X_scaled, y, test_size=0.2, random_state=42)\n",
    "\n",
    "model = LogisticRegression(multi_class='multinomial', solver='lbfgs')\n",
    "\n",
    "model.fit(X_train, y_train)\n",
    "\n",
    "y_pred = model.predict(X_test)\n",
    "\n",
    "accuracy = accuracy_score(y_test, y_pred)\n",
    "print(\"Accuracy:\", accuracy)\n",
    "\n",
    "print(classification_report(y_test, y_pred, zero_division=1))"
   ]
  },
  {
   "cell_type": "code",
   "execution_count": 19,
   "id": "4f9cd121",
   "metadata": {},
   "outputs": [
    {
     "name": "stdout",
     "output_type": "stream",
     "text": [
      "Accuracy: 0.6426681783824642\n",
      "              precision    recall  f1-score   support\n",
      "\n",
      "           0       1.00      0.00      0.00       650\n",
      "           1       0.63      0.02      0.04      1262\n",
      "           2       0.64      1.00      0.78      3380\n",
      "\n",
      "    accuracy                           0.64      5292\n",
      "   macro avg       0.76      0.34      0.27      5292\n",
      "weighted avg       0.68      0.64      0.51      5292\n",
      "\n"
     ]
    }
   ],
   "source": [
    "from mord import LogisticAT\n",
    "\n",
    "X = train.drop('credit', axis=1)\n",
    "y = train['credit']\n",
    "y = y.astype(int) #Ordinal\n",
    "\n",
    "# 데이터 스케일링\n",
    "scaler = StandardScaler()\n",
    "X_scaled = scaler.fit_transform(X)\n",
    "\n",
    "X_train, X_test, y_train, y_test = train_test_split(X_scaled, y, test_size=0.2, random_state=42)\n",
    "\n",
    "model = LogisticAT()\n",
    "\n",
    "model.fit(X_train, y_train)\n",
    "\n",
    "y_pred = model.predict(X_test)\n",
    "\n",
    "accuracy = accuracy_score(y_test, y_pred)\n",
    "print(\"Accuracy:\", accuracy)\n",
    "\n",
    "print(classification_report(y_test, y_pred, zero_division=1))"
   ]
  },
  {
   "cell_type": "code",
   "execution_count": 20,
   "id": "6ad608d4",
   "metadata": {},
   "outputs": [
    {
     "name": "stdout",
     "output_type": "stream",
     "text": [
      "Accuracy: 0.6390778533635676\n",
      "              precision    recall  f1-score   support\n",
      "\n",
      "         0.0       1.00      0.00      0.00       650\n",
      "         1.0       0.29      0.00      0.00      1262\n",
      "         2.0       0.64      1.00      0.78      3380\n",
      "\n",
      "    accuracy                           0.64      5292\n",
      "   macro avg       0.64      0.33      0.26      5292\n",
      "weighted avg       0.60      0.64      0.50      5292\n",
      "\n",
      "Log Loss: 0.8678694438629174\n"
     ]
    }
   ],
   "source": [
    "from sklearn.model_selection import train_test_split\n",
    "from sklearn.preprocessing import StandardScaler\n",
    "from sklearn.linear_model import LogisticRegression\n",
    "from sklearn.metrics import accuracy_score, classification_report, log_loss\n",
    "\n",
    "X = train.drop('credit', axis=1)\n",
    "y = train['credit']\n",
    "\n",
    "# 데이터 스케일링\n",
    "scaler = StandardScaler()\n",
    "X_scaled = scaler.fit_transform(X)\n",
    "\n",
    "# 데이터 분할\n",
    "X_train, X_test, y_train, y_test = train_test_split(X_scaled, y, test_size=0.2, random_state=42)\n",
    "\n",
    "# 모델 생성 및 학습\n",
    "model = LogisticRegression(multi_class='multinomial', solver='lbfgs')\n",
    "model.fit(X_train, y_train)\n",
    "\n",
    "# 예측\n",
    "y_pred = model.predict(X_test)\n",
    "y_pred_proba = model.predict_proba(X_test)\n",
    "\n",
    "# 평가\n",
    "accuracy = accuracy_score(y_test, y_pred)\n",
    "print(\"Accuracy:\", accuracy)\n",
    "print(classification_report(y_test, y_pred, zero_division=1))\n",
    "\n",
    "# Log loss 계산\n",
    "logloss = log_loss(y_test, y_pred_proba)\n",
    "print(\"Log Loss:\", logloss)"
   ]
  }
 ],
 "metadata": {
  "kernelspec": {
   "display_name": "Python 3 (ipykernel)",
   "language": "python",
   "name": "python3"
  },
  "language_info": {
   "codemirror_mode": {
    "name": "ipython",
    "version": 3
   },
   "file_extension": ".py",
   "mimetype": "text/x-python",
   "name": "python",
   "nbconvert_exporter": "python",
   "pygments_lexer": "ipython3",
   "version": "3.11.3"
  }
 },
 "nbformat": 4,
 "nbformat_minor": 5
}
